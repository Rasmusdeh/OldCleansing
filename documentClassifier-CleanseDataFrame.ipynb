{
 "cells": [
  {
   "cell_type": "code",
   "execution_count": 18,
   "id": "ca55926d",
   "metadata": {},
   "outputs": [],
   "source": [
    "# 30 min classification coding in python\n",
    "\n",
    "# from Bio import Entrez  # importer Bio library og modulet entrez\n",
    "import pandas as pd\n",
    "from nltk.tokenize import word_tokenize\n",
    "from nltk.corpus import stopwords\n",
    "import string\n",
    "import re\n",
    "import nltk\n",
    "import pickle\n",
    "import re\n",
    "from sklearn.feature_extraction.text import TfidfVectorizer\n",
    "from sklearn.decomposition import TruncatedSVD\n",
    "\n",
    "from sklearn import svm\n",
    "from sklearn.model_selection import RepeatedKFold\n",
    "from sklearn.model_selection import cross_val_score\n",
    "from sklearn.model_selection import cross_validate\n",
    "from numpy import mean\n",
    "from numpy import std\n",
    "\n",
    "from sklearn.metrics import classification_report, f1_score, accuracy_score, confusion_matrix\n"
   ]
  },
  {
   "cell_type": "code",
   "execution_count": 3,
   "id": "890fc5bc",
   "metadata": {},
   "outputs": [
    {
     "data": {
      "text/html": [
       "<div>\n",
       "<style scoped>\n",
       "    .dataframe tbody tr th:only-of-type {\n",
       "        vertical-align: middle;\n",
       "    }\n",
       "\n",
       "    .dataframe tbody tr th {\n",
       "        vertical-align: top;\n",
       "    }\n",
       "\n",
       "    .dataframe thead th {\n",
       "        text-align: right;\n",
       "    }\n",
       "</style>\n",
       "<table border=\"1\" class=\"dataframe\">\n",
       "  <thead>\n",
       "    <tr style=\"text-align: right;\">\n",
       "      <th></th>\n",
       "      <th>Unnamed: 0</th>\n",
       "      <th>title</th>\n",
       "      <th>rating</th>\n",
       "      <th>name</th>\n",
       "      <th>num_ratings</th>\n",
       "      <th>num_reviews</th>\n",
       "      <th>num_followers</th>\n",
       "      <th>synopsis</th>\n",
       "      <th>genre</th>\n",
       "    </tr>\n",
       "  </thead>\n",
       "  <tbody>\n",
       "    <tr>\n",
       "      <th>0</th>\n",
       "      <td>0</td>\n",
       "      <td>Sapiens: A Brief History of Humankind</td>\n",
       "      <td>4.39</td>\n",
       "      <td>Yuval Noah Harari</td>\n",
       "      <td>8,06,229</td>\n",
       "      <td>46,149</td>\n",
       "      <td>30.5k</td>\n",
       "      <td>100,000 years ago, at least six human species ...</td>\n",
       "      <td>history</td>\n",
       "    </tr>\n",
       "    <tr>\n",
       "      <th>1</th>\n",
       "      <td>1</td>\n",
       "      <td>Guns, Germs, and Steel: The Fates of Human Soc...</td>\n",
       "      <td>4.04</td>\n",
       "      <td>Jared Diamond</td>\n",
       "      <td>3,67,056</td>\n",
       "      <td>12,879</td>\n",
       "      <td>6,538</td>\n",
       "      <td>\"Diamond has written a book of remarkable scop...</td>\n",
       "      <td>history</td>\n",
       "    </tr>\n",
       "    <tr>\n",
       "      <th>2</th>\n",
       "      <td>2</td>\n",
       "      <td>A People's History of the United States</td>\n",
       "      <td>4.07</td>\n",
       "      <td>Howard Zinn</td>\n",
       "      <td>2,24,620</td>\n",
       "      <td>6,509</td>\n",
       "      <td>2,354</td>\n",
       "      <td>In the book, Zinn presented a different side o...</td>\n",
       "      <td>history</td>\n",
       "    </tr>\n",
       "    <tr>\n",
       "      <th>3</th>\n",
       "      <td>3</td>\n",
       "      <td>The Devil in the White City: Murder, Magic, an...</td>\n",
       "      <td>3.99</td>\n",
       "      <td>Erik Larson</td>\n",
       "      <td>6,13,157</td>\n",
       "      <td>36,644</td>\n",
       "      <td>64.2k</td>\n",
       "      <td>Author Erik Larson imbues the incredible event...</td>\n",
       "      <td>history</td>\n",
       "    </tr>\n",
       "    <tr>\n",
       "      <th>4</th>\n",
       "      <td>4</td>\n",
       "      <td>The Diary of a Young Girl</td>\n",
       "      <td>4.18</td>\n",
       "      <td>Anne Frank</td>\n",
       "      <td>33,13,033</td>\n",
       "      <td>35,591</td>\n",
       "      <td>4,621</td>\n",
       "      <td>Discovered in the attic in which she spent the...</td>\n",
       "      <td>history</td>\n",
       "    </tr>\n",
       "    <tr>\n",
       "      <th>...</th>\n",
       "      <td>...</td>\n",
       "      <td>...</td>\n",
       "      <td>...</td>\n",
       "      <td>...</td>\n",
       "      <td>...</td>\n",
       "      <td>...</td>\n",
       "      <td>...</td>\n",
       "      <td>...</td>\n",
       "      <td>...</td>\n",
       "    </tr>\n",
       "    <tr>\n",
       "      <th>1534</th>\n",
       "      <td>1534</td>\n",
       "      <td>Hounded</td>\n",
       "      <td>4.09</td>\n",
       "      <td>Kevin Hearne</td>\n",
       "      <td>83,827</td>\n",
       "      <td>7,203</td>\n",
       "      <td>11,905</td>\n",
       "      <td>Atticus O’Sullivan, last of the Druids, lives ...</td>\n",
       "      <td>fantasy</td>\n",
       "    </tr>\n",
       "    <tr>\n",
       "      <th>1535</th>\n",
       "      <td>1535</td>\n",
       "      <td>Charlie and the Chocolate Factory</td>\n",
       "      <td>4.15</td>\n",
       "      <td>Roald Dahl</td>\n",
       "      <td>7,75,001</td>\n",
       "      <td>14,252</td>\n",
       "      <td>22,897</td>\n",
       "      <td>Charlie Bucket's wonderful adventure begins wh...</td>\n",
       "      <td>fantasy</td>\n",
       "    </tr>\n",
       "    <tr>\n",
       "      <th>1536</th>\n",
       "      <td>1536</td>\n",
       "      <td>Red Rising</td>\n",
       "      <td>4.25</td>\n",
       "      <td>Pierce Brown</td>\n",
       "      <td>3,10,138</td>\n",
       "      <td>30,388</td>\n",
       "      <td>30,510</td>\n",
       "      <td>\"I live for the dream that my children will be...</td>\n",
       "      <td>fantasy</td>\n",
       "    </tr>\n",
       "    <tr>\n",
       "      <th>1537</th>\n",
       "      <td>1537</td>\n",
       "      <td>Frostbite</td>\n",
       "      <td>4.26</td>\n",
       "      <td>Richelle Mead</td>\n",
       "      <td>3,37,538</td>\n",
       "      <td>12,435</td>\n",
       "      <td>66,448</td>\n",
       "      <td>Rose loves Dimitri, Dimitri might love Tasha, ...</td>\n",
       "      <td>fantasy</td>\n",
       "    </tr>\n",
       "    <tr>\n",
       "      <th>1538</th>\n",
       "      <td>1538</td>\n",
       "      <td>Radiance</td>\n",
       "      <td>4.03</td>\n",
       "      <td>Grace Draven</td>\n",
       "      <td>50,102</td>\n",
       "      <td>5,550</td>\n",
       "      <td>6,090</td>\n",
       "      <td>The Prince of no value\\nBrishen Khaskem, princ...</td>\n",
       "      <td>fantasy</td>\n",
       "    </tr>\n",
       "  </tbody>\n",
       "</table>\n",
       "<p>1539 rows × 9 columns</p>\n",
       "</div>"
      ],
      "text/plain": [
       "      Unnamed: 0                                              title  rating  \\\n",
       "0              0              Sapiens: A Brief History of Humankind    4.39   \n",
       "1              1  Guns, Germs, and Steel: The Fates of Human Soc...    4.04   \n",
       "2              2            A People's History of the United States    4.07   \n",
       "3              3  The Devil in the White City: Murder, Magic, an...    3.99   \n",
       "4              4                          The Diary of a Young Girl    4.18   \n",
       "...          ...                                                ...     ...   \n",
       "1534        1534                                            Hounded    4.09   \n",
       "1535        1535                  Charlie and the Chocolate Factory    4.15   \n",
       "1536        1536                                         Red Rising    4.25   \n",
       "1537        1537                                          Frostbite    4.26   \n",
       "1538        1538                                           Radiance    4.03   \n",
       "\n",
       "                   name num_ratings num_reviews num_followers  \\\n",
       "0     Yuval Noah Harari    8,06,229      46,149         30.5k   \n",
       "1         Jared Diamond    3,67,056      12,879         6,538   \n",
       "2           Howard Zinn    2,24,620       6,509         2,354   \n",
       "3           Erik Larson    6,13,157      36,644         64.2k   \n",
       "4            Anne Frank   33,13,033      35,591         4,621   \n",
       "...                 ...         ...         ...           ...   \n",
       "1534       Kevin Hearne      83,827       7,203        11,905   \n",
       "1535         Roald Dahl    7,75,001      14,252        22,897   \n",
       "1536       Pierce Brown    3,10,138      30,388        30,510   \n",
       "1537      Richelle Mead    3,37,538      12,435        66,448   \n",
       "1538       Grace Draven      50,102       5,550         6,090   \n",
       "\n",
       "                                               synopsis    genre  \n",
       "0     100,000 years ago, at least six human species ...  history  \n",
       "1     \"Diamond has written a book of remarkable scop...  history  \n",
       "2     In the book, Zinn presented a different side o...  history  \n",
       "3     Author Erik Larson imbues the incredible event...  history  \n",
       "4     Discovered in the attic in which she spent the...  history  \n",
       "...                                                 ...      ...  \n",
       "1534  Atticus O’Sullivan, last of the Druids, lives ...  fantasy  \n",
       "1535  Charlie Bucket's wonderful adventure begins wh...  fantasy  \n",
       "1536  \"I live for the dream that my children will be...  fantasy  \n",
       "1537  Rose loves Dimitri, Dimitri might love Tasha, ...  fantasy  \n",
       "1538  The Prince of no value\\nBrishen Khaskem, princ...  fantasy  \n",
       "\n",
       "[1539 rows x 9 columns]"
      ]
     },
     "metadata": {},
     "output_type": "display_data"
    }
   ],
   "source": [
    "df = pd.read_csv('data.csv')\n",
    "\n",
    "display(df)"
   ]
  },
  {
   "cell_type": "code",
   "execution_count": 4,
   "id": "792762dc",
   "metadata": {},
   "outputs": [
    {
     "data": {
      "text/plain": [
       "0       100,000 years ago, at least six human species ...\n",
       "1       \"diamond has written a book of remarkable scop...\n",
       "2       in the book, zinn presented a different side o...\n",
       "3       author erik larson imbues the incredible event...\n",
       "4       discovered in the attic in which she spent the...\n",
       "                              ...                        \n",
       "1534    atticus o’sullivan, last of the druids, lives ...\n",
       "1535    charlie bucket's wonderful adventure begins wh...\n",
       "1536    \"i live for the dream that my children will be...\n",
       "1537    rose loves dimitri, dimitri might love tasha, ...\n",
       "1538    the prince of no value\\nbrishen khaskem, princ...\n",
       "Name: synopsis, Length: 1539, dtype: object"
      ]
     },
     "metadata": {},
     "output_type": "display_data"
    }
   ],
   "source": [
    "df[\"synopsis\"] = df[\"synopsis\"].str.lower()\n",
    "display(df[\"synopsis\"])"
   ]
  },
  {
   "cell_type": "code",
   "execution_count": 8,
   "id": "acb16332",
   "metadata": {},
   "outputs": [
    {
     "data": {
      "text/plain": [
       "0       100,000 years ago, at least six human species ...\n",
       "1       diamond has written a book of remarkable scope...\n",
       "2       in the book, zinn presented a different side o...\n",
       "3       author erik larson imbues the incredible event...\n",
       "4       discovered in the attic in which she spent the...\n",
       "                              ...                        \n",
       "1534    atticus osullivan, last of the druids, lives p...\n",
       "1535    charlie buckets wonderful adventure begins whe...\n",
       "1536    i live for the dream that my children will be ...\n",
       "1537    rose loves dimitri, dimitri might love tasha, ...\n",
       "1538    the prince of no value\\nbrishen khaskem, princ...\n",
       "Name: synopsis, Length: 1539, dtype: object"
      ]
     },
     "metadata": {},
     "output_type": "display_data"
    }
   ],
   "source": [
    "df[\"synopsis\"]= df.apply(lambda x: re.sub(\"[\\\"'’]\",\"\",x[\"synopsis\"]),axis=1) \n",
    "display(df[\"synopsis\"])"
   ]
  },
  {
   "cell_type": "code",
   "execution_count": 5,
   "id": "d4dc8d84",
   "metadata": {},
   "outputs": [
    {
     "data": {
      "text/plain": [
       "0       [100,000, years, ago, ,, at, least, six, human...\n",
       "1       [``, diamond, has, written, a, book, of, remar...\n",
       "2       [in, the, book, ,, zinn, presented, a, differe...\n",
       "3       [author, erik, larson, imbues, the, incredible...\n",
       "4       [discovered, in, the, attic, in, which, she, s...\n",
       "                              ...                        \n",
       "1534    [atticus, o, ’, sullivan, ,, last, of, the, dr...\n",
       "1535    [charlie, bucket, 's, wonderful, adventure, be...\n",
       "1536    [``, i, live, for, the, dream, that, my, child...\n",
       "1537    [rose, loves, dimitri, ,, dimitri, might, love...\n",
       "1538    [the, prince, of, no, value, brishen, khaskem,...\n",
       "Name: synopsis_proc, Length: 1539, dtype: object"
      ]
     },
     "metadata": {},
     "output_type": "display_data"
    }
   ],
   "source": [
    "df[\"synopsis_proc\"]= df.apply(lambda x: word_tokenize(x[\"synopsis\"]),axis=1)\n",
    "display(df[\"synopsis_proc\"])"
   ]
  },
  {
   "cell_type": "code",
   "execution_count": 10,
   "id": "9a56950e",
   "metadata": {},
   "outputs": [
    {
     "name": "stderr",
     "output_type": "stream",
     "text": [
      "[nltk_data] Downloading package punkt to\n",
      "[nltk_data]     C:\\Users\\rasmu\\AppData\\Roaming\\nltk_data...\n",
      "[nltk_data]   Package punkt is already up-to-date!\n"
     ]
    },
    {
     "data": {
      "text/plain": [
       "0       [100000, years, ago, , at, least, six, human, ...\n",
       "1       [diamond, has, written, a, book, of, remarkabl...\n",
       "2       [in, the, book, , zinn, presented, a, differen...\n",
       "3       [author, erik, larson, imbues, the, incredible...\n",
       "4       [discovered, in, the, attic, in, which, she, s...\n",
       "                              ...                        \n",
       "1534    [atticus, osullivan, , last, of, the, druids, ...\n",
       "1535    [charlie, buckets, wonderful, adventure, begin...\n",
       "1536    [i, live, for, the, dream, that, my, children,...\n",
       "1537    [rose, loves, dimitri, , dimitri, might, love,...\n",
       "1538    [the, prince, of, no, value, brishen, khaskem,...\n",
       "Name: synopsis_proc, Length: 1539, dtype: object"
      ]
     },
     "metadata": {},
     "output_type": "display_data"
    }
   ],
   "source": [
    "nltk.download('punkt')\n",
    "table = str.maketrans('', '', string.punctuation)\n",
    "df[\"synopsis_proc\"] = df.apply(lambda x: [w.translate(table) for w in x[\"synopsis_proc\"]], axis=1)\n",
    "display(df[\"synopsis_proc\"])"
   ]
  },
  {
   "cell_type": "code",
   "execution_count": 6,
   "id": "6e71d10a",
   "metadata": {},
   "outputs": [
    {
     "data": {
      "text/plain": [
       "0       [years, ago, at, least, six, human, species, i...\n",
       "1       [diamond, has, written, a, book, of, remarkabl...\n",
       "2       [in, the, book, zinn, presented, a, different,...\n",
       "3       [author, erik, larson, imbues, the, incredible...\n",
       "4       [discovered, in, the, attic, in, which, she, s...\n",
       "                              ...                        \n",
       "1534    [atticus, o, sullivan, last, of, the, druids, ...\n",
       "1535    [charlie, bucket, wonderful, adventure, begins...\n",
       "1536    [i, live, for, the, dream, that, my, children,...\n",
       "1537    [rose, loves, dimitri, dimitri, might, love, t...\n",
       "1538    [the, prince, of, no, value, brishen, khaskem,...\n",
       "Name: synopsis_proc, Length: 1539, dtype: object"
      ]
     },
     "metadata": {},
     "output_type": "display_data"
    }
   ],
   "source": [
    "df[\"synopsis_proc\"] = df.apply(lambda x: [w for w in x[\"synopsis_proc\"] if w.isalpha()], axis=1)\n",
    "display(df[\"synopsis_proc\"])"
   ]
  },
  {
   "cell_type": "code",
   "execution_count": 12,
   "id": "17bd6158",
   "metadata": {},
   "outputs": [
    {
     "name": "stderr",
     "output_type": "stream",
     "text": [
      "[nltk_data] Downloading package stopwords to\n",
      "[nltk_data]     C:\\Users\\rasmu\\AppData\\Roaming\\nltk_data...\n",
      "[nltk_data]   Package stopwords is already up-to-date!\n"
     ]
    },
    {
     "data": {
      "text/plain": [
       "0       [years, ago, least, six, human, species, inhab...\n",
       "1       [diamond, written, book, remarkable, scope, on...\n",
       "2       [book, zinn, presented, different, side, histo...\n",
       "3       [author, erik, larson, imbues, incredible, eve...\n",
       "4       [discovered, attic, spent, last, years, life, ...\n",
       "                              ...                        \n",
       "1534    [atticus, osullivan, last, druids, lives, peac...\n",
       "1535    [charlie, buckets, wonderful, adventure, begin...\n",
       "1536    [live, dream, children, born, free, says, like...\n",
       "1537    [rose, loves, dimitri, dimitri, might, love, t...\n",
       "1538    [prince, value, brishen, khaskem, prince, kai,...\n",
       "Name: synopsis_proc, Length: 1539, dtype: object"
      ]
     },
     "metadata": {},
     "output_type": "display_data"
    }
   ],
   "source": [
    "nltk.download('stopwords')\n",
    "stop_words = set(stopwords.words('english'))\n",
    "df[\"synopsis_proc\"] = df.apply(lambda x: [w for w in x[\"synopsis_proc\"] if not w in stop_words], axis=1)\n",
    "display(df[\"synopsis_proc\"])"
   ]
  },
  {
   "cell_type": "code",
   "execution_count": 7,
   "id": "27061514",
   "metadata": {},
   "outputs": [
    {
     "data": {
      "text/plain": [
       "0       years ago at least six human species inhabited...\n",
       "1       diamond has written a book of remarkable scope...\n",
       "2       in the book zinn presented a different side of...\n",
       "3       author erik larson imbues the incredible event...\n",
       "4       discovered in the attic in which she spent the...\n",
       "                              ...                        \n",
       "1534    atticus o sullivan last of the druids lives pe...\n",
       "1535    charlie bucket wonderful adventure begins when...\n",
       "1536    i live for the dream that my children will be ...\n",
       "1537    rose loves dimitri dimitri might love tasha an...\n",
       "1538    the prince of no value brishen khaskem prince ...\n",
       "Name: synopsis_proc_res, Length: 1539, dtype: object"
      ]
     },
     "metadata": {},
     "output_type": "display_data"
    }
   ],
   "source": [
    "df[\"synopsis_proc_res\"] = df.apply(lambda x:' '.join(x[\"synopsis_proc\"]), axis=1)\n",
    "display(df[\"synopsis_proc_res\"])"
   ]
  },
  {
   "cell_type": "code",
   "execution_count": 8,
   "id": "49c60574",
   "metadata": {},
   "outputs": [],
   "source": [
    "with open('data.pickle', 'wb') as f:\n",
    "    # Pickle the 'data' dictionary using the highest protocol available.\n",
    "    pickle.dump(df, f, pickle.HIGHEST_PROTOCOL)"
   ]
  },
  {
   "cell_type": "code",
   "execution_count": 9,
   "id": "b811b879",
   "metadata": {},
   "outputs": [],
   "source": [
    "with open('data.pickle', 'rb') as f:\n",
    "    # The protocol version used is detected automatically, so we do not\n",
    "    # have to specify it.\n",
    "    df = pickle.load(f)"
   ]
  },
  {
   "cell_type": "code",
   "execution_count": 10,
   "id": "340ee5f3",
   "metadata": {},
   "outputs": [
    {
     "data": {
      "text/plain": [
       "0       years ago at least six human species inhabited...\n",
       "1       diamond has written a book of remarkable scope...\n",
       "2       in the book zinn presented a different side of...\n",
       "3       author erik larson imbues the incredible event...\n",
       "4       discovered in the attic in which she spent the...\n",
       "                              ...                        \n",
       "1534    atticus o sullivan last of the druids lives pe...\n",
       "1535    charlie bucket wonderful adventure begins when...\n",
       "1536    i live for the dream that my children will be ...\n",
       "1537    rose loves dimitri dimitri might love tasha an...\n",
       "1538    the prince of no value brishen khaskem prince ...\n",
       "Name: synopsis_proc_res, Length: 1539, dtype: object"
      ]
     },
     "execution_count": 10,
     "metadata": {},
     "output_type": "execute_result"
    }
   ],
   "source": [
    "df[\"synopsis_proc_res\"]"
   ]
  },
  {
   "cell_type": "code",
   "execution_count": 11,
   "id": "c6adc0ff",
   "metadata": {},
   "outputs": [],
   "source": [
    "\n",
    "# splitting dataframe by row index\n",
    "df_train = df.iloc[:1230,:]\n",
    "df_test = df.iloc[1230:,:]"
   ]
  },
  {
   "cell_type": "code",
   "execution_count": 13,
   "id": "53557d58",
   "metadata": {},
   "outputs": [],
   "source": [
    "vec = TfidfVectorizer()\n",
    "x = vec.fit_transform(df[\"synopsis_proc_res\"])"
   ]
  },
  {
   "cell_type": "code",
   "execution_count": 14,
   "id": "669ef7d5",
   "metadata": {},
   "outputs": [],
   "source": [
    "svd = TruncatedSVD(n_components=100)\n",
    "res = svd.fit_transform(x)"
   ]
  },
  {
   "cell_type": "code",
   "execution_count": 15,
   "id": "b78e5e7a",
   "metadata": {},
   "outputs": [],
   "source": [
    "y = df[\"genre\"].values\n",
    "X = res\n",
    "cv = RepeatedKFold(n_splits=10, n_repeats=3, random_state=1)\n",
    "model = svm.SVC(kernel='linear', C=1, decision_function_shape='ovo')"
   ]
  },
  {
   "cell_type": "code",
   "execution_count": 16,
   "id": "54c38550",
   "metadata": {
    "scrolled": true
   },
   "outputs": [
    {
     "name": "stdout",
     "output_type": "stream",
     "text": [
      "Precision: 0.581 (0.053)\n",
      "Recall: 0.454 (-0.039)\n"
     ]
    }
   ],
   "source": [
    "metrics = cross_validate(model, res, y, scoring=['precision_macro', 'recall_macro'], cv=cv, n_jobs=-1)\n",
    "\n",
    "print('Precision: %.3f (%.3f)' % (mean(metrics[\"test_precision_macro\"]), std(metrics[\"test_precision_macro\"])))\n",
    "print('Recall: %.3f (%.3f)' % (mean(metrics[\"test_recall_macro\"]), -std(metrics[\"test_recall_macro\"])))"
   ]
  },
  {
   "cell_type": "code",
   "execution_count": null,
   "id": "01516783",
   "metadata": {},
   "outputs": [],
   "source": []
  }
 ],
 "metadata": {
  "kernelspec": {
   "display_name": "Python 3 (ipykernel)",
   "language": "python",
   "name": "python3"
  },
  "language_info": {
   "codemirror_mode": {
    "name": "ipython",
    "version": 3
   },
   "file_extension": ".py",
   "mimetype": "text/x-python",
   "name": "python",
   "nbconvert_exporter": "python",
   "pygments_lexer": "ipython3",
   "version": "3.9.12"
  }
 },
 "nbformat": 4,
 "nbformat_minor": 5
}
